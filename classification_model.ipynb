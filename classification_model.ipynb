{
 "cells": [
  {
   "cell_type": "code",
   "execution_count": 1,
   "metadata": {},
   "outputs": [],
   "source": [
    "from sklearn.model_selection import train_test_split\n",
    "from sklearn.neighbors import KNeighborsClassifier\n",
    "from sklearn.linear_model import LogisticRegression\n",
    "from sklearn.ensemble import RandomForestClassifier\n",
    "from sklearn.svm import SVC\n",
    "from sklearn.metrics import accuracy_score\n",
    "from datasets import matches_by_teams"
   ]
  },
  {
   "cell_type": "code",
   "execution_count": 8,
   "metadata": {},
   "outputs": [
    {
     "name": "stdout",
     "output_type": "stream",
     "text": [
      "Precisión del modelo KNeighborsClassifier: 0.6418121755545069\n",
      "Precisión del modelo LogisticRegression: 0.7277017461066541\n",
      "Precisión del modelo RandomForestClassifier: 0.997168475696083\n",
      "Precisión del modelo SVC: 0.4789995280792827\n"
     ]
    }
   ],
   "source": [
    "# Cargar el dataset, por motivos de prueba, se eliminarán las variables cualitativas y se limpiarán los nulos con el promedio\n",
    "matches_by_teams_df = matches_by_teams()\n",
    "matches_by_teams_df = matches_by_teams_df.drop(['color', 'team_id', 'team_name', 'team_region'], axis=1)\n",
    "matches_by_teams_df = matches_by_teams_df.fillna(matches_by_teams_df.mean())\n",
    "X = matches_by_teams_df.drop('winner', axis=1)\n",
    "y = matches_by_teams_df.winner\n",
    "\n",
    "# Dividir el conjunto de datos en entrenamiento y prueba\n",
    "X_train, X_test, y_train, y_test = train_test_split(X, y, test_size=0.2, random_state=42)\n",
    "\n",
    "models = [\n",
    "    KNeighborsClassifier(n_neighbors=5),\n",
    "    LogisticRegression(),\n",
    "    RandomForestClassifier(n_estimators=100, random_state=42),\n",
    "    SVC()\n",
    "]\n",
    "\n",
    "for model in models:\n",
    "    model.fit(X_train, y_train)\n",
    "    y_pred = model.predict(X_test)\n",
    "    accuracy = accuracy_score(y_test, y_pred)\n",
    "    model_name = model.__class__.__name__\n",
    "    print(f\"Precisión del modelo {model_name}: {accuracy}\")"
   ]
  }
 ],
 "metadata": {
  "kernelspec": {
   "display_name": "Python 3",
   "language": "python",
   "name": "python3"
  },
  "language_info": {
   "codemirror_mode": {
    "name": "ipython",
    "version": 3
   },
   "file_extension": ".py",
   "mimetype": "text/x-python",
   "name": "python",
   "nbconvert_exporter": "python",
   "pygments_lexer": "ipython3",
   "version": "3.10.6"
  },
  "orig_nbformat": 4
 },
 "nbformat": 4,
 "nbformat_minor": 2
}
